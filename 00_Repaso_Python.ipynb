{
  "cells": [
    {
      "cell_type": "markdown",
      "id": "50a1a127",
      "metadata": {
        "id": "50a1a127"
      },
      "source": [
        "#**Repaso express - Python: Numpy y Pandas**"
      ]
    },
    {
      "cell_type": "markdown",
      "id": "f3366cfc",
      "metadata": {
        "id": "f3366cfc"
      },
      "source": [
        "#**Numpy**"
      ]
    },
    {
      "cell_type": "markdown",
      "id": "c9f473f9",
      "metadata": {
        "id": "c9f473f9"
      },
      "source": [
        "## **Operaciones con arreglos (arrays)**"
      ]
    },
    {
      "cell_type": "code",
      "execution_count": null,
      "id": "2d505223",
      "metadata": {
        "id": "2d505223",
        "outputId": "86f9e1b1-ee9a-4b35-bc4e-f7146f9c1db6",
        "colab": {
          "base_uri": "https://localhost:8080/"
        }
      },
      "outputs": [
        {
          "output_type": "stream",
          "name": "stdout",
          "text": [
            "[[3 2 4]\n",
            " [5 6 8]]\n"
          ]
        }
      ],
      "source": [
        "import numpy as np\n",
        "data = np.array( [ [3, 2, 4], [5, 6, 8] ] )\n",
        "data2 = np.array( [ [5.4, 2.09, 4], [5.4, 6.51, 8.0001] ] )\n",
        "print(data)\n"
      ]
    },
    {
      "cell_type": "code",
      "source": [
        "print(data2)"
      ],
      "metadata": {
        "colab": {
          "base_uri": "https://localhost:8080/"
        },
        "id": "GrUjIkvcywbW",
        "outputId": "e1315894-2212-40b8-d005-7c540af7de76"
      },
      "id": "GrUjIkvcywbW",
      "execution_count": null,
      "outputs": [
        {
          "output_type": "stream",
          "name": "stdout",
          "text": [
            "[[5.4    2.09   4.    ]\n",
            " [5.4    6.51   8.0001]]\n"
          ]
        }
      ]
    },
    {
      "cell_type": "code",
      "source": [
        "print(data * 2 )\n",
        "print(data + 5 )\n",
        "print(data + data2 )"
      ],
      "metadata": {
        "colab": {
          "base_uri": "https://localhost:8080/"
        },
        "id": "y_MO9SvtyI7A",
        "outputId": "69fb3590-7d29-4320-b077-bb82919925a7"
      },
      "id": "y_MO9SvtyI7A",
      "execution_count": null,
      "outputs": [
        {
          "output_type": "stream",
          "name": "stdout",
          "text": [
            "[[ 6  4  8]\n",
            " [10 12 16]]\n",
            "[[ 8  7  9]\n",
            " [10 11 13]]\n",
            "[[ 8.4     4.09    8.    ]\n",
            " [10.4    12.51   16.0001]]\n"
          ]
        }
      ]
    },
    {
      "cell_type": "code",
      "execution_count": null,
      "id": "7b97803a",
      "metadata": {
        "id": "7b97803a",
        "outputId": "26198b6b-78d5-44cc-a111-2599a02ebb6a",
        "colab": {
          "base_uri": "https://localhost:8080/"
        }
      },
      "outputs": [
        {
          "output_type": "execute_result",
          "data": {
            "text/plain": [
              "(2, 3)"
            ]
          },
          "metadata": {},
          "execution_count": 17
        }
      ],
      "source": [
        "data.shape  # Forma del arreglo"
      ]
    },
    {
      "cell_type": "code",
      "execution_count": null,
      "id": "3578f43d",
      "metadata": {
        "id": "3578f43d",
        "outputId": "5109746a-5ae3-4663-d5d3-f80e7499f13d",
        "colab": {
          "base_uri": "https://localhost:8080/"
        }
      },
      "outputs": [
        {
          "output_type": "execute_result",
          "data": {
            "text/plain": [
              "1"
            ]
          },
          "metadata": {},
          "execution_count": 18
        }
      ],
      "source": [
        "unidimensional = np.array([2, 2, 3])\n",
        "unidimensional.ndim  #numero de dimensiones (arreglo bidimensional)"
      ]
    },
    {
      "cell_type": "code",
      "execution_count": null,
      "id": "89a87388",
      "metadata": {
        "id": "89a87388",
        "outputId": "df813088-efec-414c-fdbc-a74ebea36349",
        "colab": {
          "base_uri": "https://localhost:8080/"
        }
      },
      "outputs": [
        {
          "output_type": "execute_result",
          "data": {
            "text/plain": [
              "array([[0., 0., 0., 0.],\n",
              "       [0., 0., 0., 0.],\n",
              "       [0., 0., 0., 0.],\n",
              "       [0., 0., 0., 0.],\n",
              "       [0., 0., 0., 0.],\n",
              "       [0., 0., 0., 0.],\n",
              "       [0., 0., 0., 0.],\n",
              "       [0., 0., 0., 0.],\n",
              "       [0., 0., 0., 0.],\n",
              "       [0., 0., 0., 0.]])"
            ]
          },
          "metadata": {},
          "execution_count": 19
        }
      ],
      "source": [
        "np.zeros((10,4))"
      ]
    },
    {
      "cell_type": "code",
      "execution_count": null,
      "id": "a5cdbee5",
      "metadata": {
        "id": "a5cdbee5",
        "outputId": "f848871a-5647-4f8d-92d6-546ac93dab00",
        "colab": {
          "base_uri": "https://localhost:8080/"
        }
      },
      "outputs": [
        {
          "output_type": "execute_result",
          "data": {
            "text/plain": [
              "array([[1., 1., 1., 1., 1., 1., 1., 1., 1., 1.],\n",
              "       [1., 1., 1., 1., 1., 1., 1., 1., 1., 1.],\n",
              "       [1., 1., 1., 1., 1., 1., 1., 1., 1., 1.],\n",
              "       [1., 1., 1., 1., 1., 1., 1., 1., 1., 1.],\n",
              "       [1., 1., 1., 1., 1., 1., 1., 1., 1., 1.],\n",
              "       [1., 1., 1., 1., 1., 1., 1., 1., 1., 1.],\n",
              "       [1., 1., 1., 1., 1., 1., 1., 1., 1., 1.],\n",
              "       [1., 1., 1., 1., 1., 1., 1., 1., 1., 1.],\n",
              "       [1., 1., 1., 1., 1., 1., 1., 1., 1., 1.],\n",
              "       [1., 1., 1., 1., 1., 1., 1., 1., 1., 1.]])"
            ]
          },
          "metadata": {},
          "execution_count": 20
        }
      ],
      "source": [
        "unos = np.ones((10,10))\n",
        "unos"
      ]
    },
    {
      "cell_type": "code",
      "execution_count": null,
      "id": "47d357c9",
      "metadata": {
        "id": "47d357c9",
        "outputId": "029d260a-845e-4174-963d-00cd6b9b3249",
        "colab": {
          "base_uri": "https://localhost:8080/"
        }
      },
      "outputs": [
        {
          "output_type": "execute_result",
          "data": {
            "text/plain": [
              "array([[1., 0., 0., 0., 0., 0., 0., 0., 0., 0.],\n",
              "       [0., 1., 0., 0., 0., 0., 0., 0., 0., 0.],\n",
              "       [0., 0., 1., 0., 0., 0., 0., 0., 0., 0.],\n",
              "       [0., 0., 0., 1., 0., 0., 0., 0., 0., 0.],\n",
              "       [0., 0., 0., 0., 1., 0., 0., 0., 0., 0.],\n",
              "       [0., 0., 0., 0., 0., 1., 0., 0., 0., 0.],\n",
              "       [0., 0., 0., 0., 0., 0., 1., 0., 0., 0.],\n",
              "       [0., 0., 0., 0., 0., 0., 0., 1., 0., 0.],\n",
              "       [0., 0., 0., 0., 0., 0., 0., 0., 1., 0.],\n",
              "       [0., 0., 0., 0., 0., 0., 0., 0., 0., 1.]])"
            ]
          },
          "metadata": {},
          "execution_count": 21
        }
      ],
      "source": [
        "np.eye(10)\n",
        "identidad = np.identity(10) ## Iguales eye e identity\n",
        "identidad"
      ]
    },
    {
      "cell_type": "code",
      "execution_count": null,
      "id": "a380a70b",
      "metadata": {
        "id": "a380a70b",
        "outputId": "d62a6062-ddc4-48f2-9e2a-a6ccfcd50d6a",
        "colab": {
          "base_uri": "https://localhost:8080/"
        }
      },
      "outputs": [
        {
          "output_type": "execute_result",
          "data": {
            "text/plain": [
              "array([[2., 1., 1., 1., 1., 1., 1., 1., 1., 1.],\n",
              "       [1., 2., 1., 1., 1., 1., 1., 1., 1., 1.],\n",
              "       [1., 1., 2., 1., 1., 1., 1., 1., 1., 1.],\n",
              "       [1., 1., 1., 2., 1., 1., 1., 1., 1., 1.],\n",
              "       [1., 1., 1., 1., 2., 1., 1., 1., 1., 1.],\n",
              "       [1., 1., 1., 1., 1., 2., 1., 1., 1., 1.],\n",
              "       [1., 1., 1., 1., 1., 1., 2., 1., 1., 1.],\n",
              "       [1., 1., 1., 1., 1., 1., 1., 2., 1., 1.],\n",
              "       [1., 1., 1., 1., 1., 1., 1., 1., 2., 1.],\n",
              "       [1., 1., 1., 1., 1., 1., 1., 1., 1., 2.]])"
            ]
          },
          "metadata": {},
          "execution_count": 22
        }
      ],
      "source": [
        "unos + identidad"
      ]
    },
    {
      "cell_type": "code",
      "execution_count": null,
      "id": "b69a51fc",
      "metadata": {
        "id": "b69a51fc",
        "outputId": "4b13554b-0413-48c9-ad05-8f3b9bb018fd",
        "colab": {
          "base_uri": "https://localhost:8080/"
        }
      },
      "outputs": [
        {
          "output_type": "execute_result",
          "data": {
            "text/plain": [
              "array([[0., 1., 1., 1., 1., 1., 1., 1., 1., 1.],\n",
              "       [1., 0., 1., 1., 1., 1., 1., 1., 1., 1.],\n",
              "       [1., 1., 0., 1., 1., 1., 1., 1., 1., 1.],\n",
              "       [1., 1., 1., 0., 1., 1., 1., 1., 1., 1.],\n",
              "       [1., 1., 1., 1., 0., 1., 1., 1., 1., 1.],\n",
              "       [1., 1., 1., 1., 1., 0., 1., 1., 1., 1.],\n",
              "       [1., 1., 1., 1., 1., 1., 0., 1., 1., 1.],\n",
              "       [1., 1., 1., 1., 1., 1., 1., 0., 1., 1.],\n",
              "       [1., 1., 1., 1., 1., 1., 1., 1., 0., 1.],\n",
              "       [1., 1., 1., 1., 1., 1., 1., 1., 1., 0.]])"
            ]
          },
          "metadata": {},
          "execution_count": 23
        }
      ],
      "source": [
        "unos - identidad"
      ]
    },
    {
      "cell_type": "code",
      "execution_count": null,
      "id": "169d30e2",
      "metadata": {
        "id": "169d30e2",
        "outputId": "b95b7a84-d56e-4dd9-a3cc-9ec8acb78a09",
        "colab": {
          "base_uri": "https://localhost:8080/"
        }
      },
      "outputs": [
        {
          "output_type": "execute_result",
          "data": {
            "text/plain": [
              "array([ 6, 14, 24, 36, 50])"
            ]
          },
          "metadata": {},
          "execution_count": 24
        }
      ],
      "source": [
        "a = np.array([1,2,3,4,5])\n",
        "b = np.array([6,7,8,9,10])\n",
        "a * b"
      ]
    },
    {
      "cell_type": "code",
      "execution_count": null,
      "id": "7092d8fe",
      "metadata": {
        "id": "7092d8fe",
        "outputId": "f1533273-22b7-497e-def7-8d88785b6c3d",
        "colab": {
          "base_uri": "https://localhost:8080/"
        }
      },
      "outputs": [
        {
          "output_type": "execute_result",
          "data": {
            "text/plain": [
              "array([0.16666667, 0.28571429, 0.375     , 0.44444444, 0.5       ])"
            ]
          },
          "metadata": {},
          "execution_count": 25
        }
      ],
      "source": [
        "a/b ## división elemento a elemento (element-wise)"
      ]
    },
    {
      "cell_type": "code",
      "execution_count": null,
      "id": "b26de9c7",
      "metadata": {
        "id": "b26de9c7",
        "outputId": "488738fc-f0d4-4531-e616-83516125f5b7",
        "colab": {
          "base_uri": "https://localhost:8080/"
        }
      },
      "outputs": [
        {
          "output_type": "execute_result",
          "data": {
            "text/plain": [
              "array([ 1,  4,  9, 16, 25])"
            ]
          },
          "metadata": {},
          "execution_count": 26
        }
      ],
      "source": [
        "a ** 2 ##Eleva a potencia, elemento a elemento"
      ]
    },
    {
      "cell_type": "code",
      "execution_count": null,
      "id": "634b8bd6",
      "metadata": {
        "id": "634b8bd6",
        "outputId": "d8bef436-e5cd-4dd2-923a-e8506495b231",
        "colab": {
          "base_uri": "https://localhost:8080/"
        }
      },
      "outputs": [
        {
          "output_type": "execute_result",
          "data": {
            "text/plain": [
              "array([  1,   8,  27,  64, 125])"
            ]
          },
          "metadata": {},
          "execution_count": 27
        }
      ],
      "source": [
        "a ** 3 ##Eleva a potencia, elemento a elemento"
      ]
    },
    {
      "cell_type": "code",
      "execution_count": null,
      "id": "9ab2ed15",
      "metadata": {
        "id": "9ab2ed15",
        "outputId": "b4660cf9-ec9e-473b-927a-312937639ce8",
        "colab": {
          "base_uri": "https://localhost:8080/"
        }
      },
      "outputs": [
        {
          "output_type": "execute_result",
          "data": {
            "text/plain": [
              "array([False, False, False, False, False])"
            ]
          },
          "metadata": {},
          "execution_count": 28
        }
      ],
      "source": [
        "a > b"
      ]
    },
    {
      "cell_type": "code",
      "execution_count": null,
      "id": "7cc645b4",
      "metadata": {
        "id": "7cc645b4",
        "outputId": "09f92773-9673-4204-bb81-325a973977fe",
        "colab": {
          "base_uri": "https://localhost:8080/"
        }
      },
      "outputs": [
        {
          "output_type": "stream",
          "name": "stdout",
          "text": [
            "[7 8 9]\n"
          ]
        },
        {
          "output_type": "execute_result",
          "data": {
            "text/plain": [
              "array([ 6, 49, 64, 81, 10])"
            ]
          },
          "metadata": {},
          "execution_count": 29
        }
      ],
      "source": [
        "print(b[1:4]) ##Slicing  Incluye el indice de la izq. No incluye el indice de la derecha\n",
        "b[1:4] = b[1:4] ** 2  #puedes hacer operaciones con lo que usas con slicing\n",
        "b"
      ]
    },
    {
      "cell_type": "code",
      "execution_count": null,
      "id": "75a81e60",
      "metadata": {
        "id": "75a81e60",
        "outputId": "95f05734-0bb7-43e3-d9fe-e511a315dcce",
        "colab": {
          "base_uri": "https://localhost:8080/"
        }
      },
      "outputs": [
        {
          "output_type": "execute_result",
          "data": {
            "text/plain": [
              "array([ 0, 49, 64, 81,  0])"
            ]
          },
          "metadata": {},
          "execution_count": 30
        }
      ],
      "source": [
        "b[b < 15] = 0\n",
        "b"
      ]
    },
    {
      "cell_type": "code",
      "execution_count": null,
      "id": "a824cd7b",
      "metadata": {
        "id": "a824cd7b",
        "outputId": "38c0ca8d-361d-4ca2-d889-3c3ac572c7ae",
        "colab": {
          "base_uri": "https://localhost:8080/"
        }
      },
      "outputs": [
        {
          "output_type": "execute_result",
          "data": {
            "text/plain": [
              "array([1, 2, 3, 4, 5, 6])"
            ]
          },
          "metadata": {},
          "execution_count": 31
        }
      ],
      "source": [
        "c = np.array([1,2,3,4,5,6])\n",
        "c"
      ]
    },
    {
      "cell_type": "code",
      "execution_count": null,
      "id": "c845cc8f",
      "metadata": {
        "id": "c845cc8f",
        "outputId": "6c3a3ec2-86d2-4a50-b410-eb702477038a",
        "colab": {
          "base_uri": "https://localhost:8080/"
        }
      },
      "outputs": [
        {
          "output_type": "execute_result",
          "data": {
            "text/plain": [
              "array([[1, 2, 3],\n",
              "       [4, 5, 6]])"
            ]
          },
          "metadata": {},
          "execution_count": 32
        }
      ],
      "source": [
        "c = c.reshape( (2,3) ) ##redimensiona. Pon atención a que las dimensiones tengan sentido\n",
        "c"
      ]
    },
    {
      "cell_type": "code",
      "execution_count": null,
      "id": "0c4f6c1b",
      "metadata": {
        "id": "0c4f6c1b",
        "outputId": "4a4071aa-17f8-4973-c2a3-9c69262eac6c",
        "colab": {
          "base_uri": "https://localhost:8080/"
        }
      },
      "outputs": [
        {
          "output_type": "execute_result",
          "data": {
            "text/plain": [
              "array([[1, 4],\n",
              "       [2, 5],\n",
              "       [3, 6]])"
            ]
          },
          "metadata": {},
          "execution_count": 33
        }
      ],
      "source": [
        "c.T   ##Transpuesta"
      ]
    },
    {
      "cell_type": "code",
      "execution_count": null,
      "id": "c25985cc",
      "metadata": {
        "id": "c25985cc",
        "outputId": "76adaf8d-b0fe-467e-8b2d-77096af7829d",
        "colab": {
          "base_uri": "https://localhost:8080/"
        }
      },
      "outputs": [
        {
          "output_type": "execute_result",
          "data": {
            "text/plain": [
              "array([[14, 32],\n",
              "       [32, 77]])"
            ]
          },
          "metadata": {},
          "execution_count": 34
        }
      ],
      "source": [
        "##Multiuplicacion matricial con @\n",
        "\n",
        "c @ c.T"
      ]
    },
    {
      "cell_type": "markdown",
      "id": "1b87fba5",
      "metadata": {
        "id": "1b87fba5"
      },
      "source": [
        "## **Generacion de seudoaletorios**"
      ]
    },
    {
      "cell_type": "code",
      "execution_count": null,
      "id": "653679db",
      "metadata": {
        "id": "653679db",
        "outputId": "d700dcf5-77b4-49d3-b15e-6bfaf8851252",
        "colab": {
          "base_uri": "https://localhost:8080/"
        }
      },
      "outputs": [
        {
          "output_type": "execute_result",
          "data": {
            "text/plain": [
              "array([[0.15266373, 0.30235661, 0.06203641, 0.45986034],\n",
              "       [0.83525338, 0.92699705, 0.72698898, 0.76849622],\n",
              "       [0.26920507, 0.64402929, 0.09337326, 0.07968589],\n",
              "       [0.58961375, 0.34334054, 0.98887615, 0.62647321]])"
            ]
          },
          "metadata": {},
          "execution_count": 35
        }
      ],
      "source": [
        "import numpy as np\n",
        "np.random.seed(777) #semilla\n",
        "muestreos_uniformes = np.random.random((4,4)) #dist. uniforme entre 0 y 1\n",
        "muestreos_uniformes"
      ]
    },
    {
      "cell_type": "code",
      "execution_count": null,
      "id": "bd76ac83",
      "metadata": {
        "id": "bd76ac83",
        "outputId": "0b29c841-41da-48c6-f854-50aa7be9d03e",
        "colab": {
          "base_uri": "https://localhost:8080/"
        }
      },
      "outputs": [
        {
          "output_type": "execute_result",
          "data": {
            "text/plain": [
              "array([[681.77927978, 552.25681374, 268.86005789, 373.25938644],\n",
              "       [222.928099  , 186.44260036, 390.64809345, 193.16240564],\n",
              "       [610.91093136, 882.80844727, 622.33882432, 253.1189442 ],\n",
              "       [179.93030673, 816.40446962, 225.37162068, 516.85714   ]])"
            ]
          },
          "metadata": {},
          "execution_count": 36
        }
      ],
      "source": [
        "muestreos_uniformes2 = np.random.uniform(0, 1000,(4,4)) #dist. uniforme entre a y b\n",
        "muestreos_uniformes2"
      ]
    },
    {
      "cell_type": "code",
      "execution_count": null,
      "id": "0dee3f5d",
      "metadata": {
        "id": "0dee3f5d",
        "outputId": "0c0acaa4-82ac-48f7-a7f4-d005d8f705ea",
        "colab": {
          "base_uri": "https://localhost:8080/"
        }
      },
      "outputs": [
        {
          "output_type": "execute_result",
          "data": {
            "text/plain": [
              "array([ 2.4793696 ,  0.45686676, -0.31387278, ...,  0.72672816,\n",
              "        0.99836861, -0.79145937])"
            ]
          },
          "metadata": {},
          "execution_count": 37
        }
      ],
      "source": [
        "muestreos_normal = np.random.standard_normal((10000)) #normal estandar -- media 0 y varianza 1\n",
        "muestreos_normal"
      ]
    },
    {
      "cell_type": "code",
      "source": [
        "muestreos_normal.mean()"
      ],
      "metadata": {
        "colab": {
          "base_uri": "https://localhost:8080/"
        },
        "id": "xvEwgM-L0XcO",
        "outputId": "d69d94af-f9a4-4409-bfe7-74683dd02129"
      },
      "id": "xvEwgM-L0XcO",
      "execution_count": null,
      "outputs": [
        {
          "output_type": "execute_result",
          "data": {
            "text/plain": [
              "0.011970730043268148"
            ]
          },
          "metadata": {},
          "execution_count": 38
        }
      ]
    },
    {
      "cell_type": "code",
      "source": [
        "muestreos_normal.std()"
      ],
      "metadata": {
        "colab": {
          "base_uri": "https://localhost:8080/"
        },
        "id": "TQRc3qqr0Z_H",
        "outputId": "b86e1a0c-cc90-4d6e-c1df-e918248d4c8b"
      },
      "id": "TQRc3qqr0Z_H",
      "execution_count": null,
      "outputs": [
        {
          "output_type": "execute_result",
          "data": {
            "text/plain": [
              "1.0085730532174342"
            ]
          },
          "metadata": {},
          "execution_count": 39
        }
      ]
    },
    {
      "cell_type": "code",
      "execution_count": null,
      "id": "ec0b8cc2",
      "metadata": {
        "id": "ec0b8cc2",
        "outputId": "71e970c6-658d-4ed5-a491-cad6cf725ead",
        "colab": {
          "base_uri": "https://localhost:8080/"
        }
      },
      "outputs": [
        {
          "output_type": "execute_result",
          "data": {
            "text/plain": [
              "array([[49.68504847, 51.78072882, 49.61916596, 49.46980995],\n",
              "       [50.33987804, 49.78992298, 49.52923959, 49.79154221],\n",
              "       [49.63037779, 50.31201122, 48.62298538, 50.01493108],\n",
              "       [49.99913218, 49.24067354, 49.27597808, 49.78423684]])"
            ]
          },
          "metadata": {},
          "execution_count": 40
        }
      ],
      "source": [
        "muestreos_normal = np.random.normal(50,1,(4,4)) #normal (media, desviacion estandar, dimensiones)\n",
        "muestreos_normal"
      ]
    },
    {
      "cell_type": "markdown",
      "id": "8e1d6e86",
      "metadata": {
        "id": "8e1d6e86"
      },
      "source": [
        "#**Pandas**"
      ]
    },
    {
      "cell_type": "markdown",
      "source": [
        "https://profile.es/blog/pandas-python/"
      ],
      "metadata": {
        "id": "5fAffWzr1Ko4"
      },
      "id": "5fAffWzr1Ko4"
    },
    {
      "cell_type": "markdown",
      "source": [],
      "metadata": {
        "id": "UGpzR4HhIUu2"
      },
      "id": "UGpzR4HhIUu2"
    },
    {
      "cell_type": "code",
      "source": [
        "# pip install yfinance\n",
        "# pip install --upgrade yfinance"
      ],
      "metadata": {
        "id": "qddxE0oSlUok"
      },
      "id": "qddxE0oSlUok",
      "execution_count": null,
      "outputs": []
    },
    {
      "cell_type": "code",
      "execution_count": null,
      "id": "061c4658",
      "metadata": {
        "id": "061c4658",
        "colab": {
          "base_uri": "https://localhost:8080/"
        },
        "outputId": "8c6eb4da-a053-4df7-9582-c277dfa5d95d"
      },
      "outputs": [
        {
          "output_type": "stream",
          "name": "stderr",
          "text": [
            "[*********************100%***********************]  2 of 2 completed\n"
          ]
        }
      ],
      "source": [
        "import yfinance as yf\n",
        "data = yf.download(['AMZN', 'AAPL'], start='2022-01-01', end='2025-01-20')[\"Close\"]"
      ]
    },
    {
      "cell_type": "code",
      "execution_count": null,
      "id": "d3dfd4fb",
      "metadata": {
        "id": "d3dfd4fb",
        "outputId": "e020e6c1-b0f3-407c-d874-9ace7a9d60f2",
        "colab": {
          "base_uri": "https://localhost:8080/"
        }
      },
      "outputs": [
        {
          "output_type": "execute_result",
          "data": {
            "text/plain": [
              "145.23796288255622"
            ]
          },
          "metadata": {},
          "execution_count": 36
        }
      ],
      "source": [
        "data[\"AMZN\"].mean()"
      ]
    },
    {
      "cell_type": "code",
      "execution_count": null,
      "id": "5fcf9d52",
      "metadata": {
        "id": "5fcf9d52",
        "outputId": "20ef2432-da4d-40ad-ffa3-9e9197334cc2",
        "colab": {
          "base_uri": "https://localhost:8080/",
          "height": 573
        }
      },
      "outputs": [
        {
          "output_type": "display_data",
          "data": {
            "text/plain": [
              "<Figure size 1200x600 with 1 Axes>"
            ],
            "image/png": "[encoded data removed]"
          },
          "metadata": {}
        }
      ],
      "source": [
        "\n",
        "import matplotlib.pyplot as plt\n",
        "\n",
        "# Graficar los precios\n",
        "plt.figure(figsize=(12, 6))\n",
        "plt.plot(data.index, data['AMZN'], label='Precio AMZN', color='orange')\n",
        "plt.title('Evolución del precio de Amazon', fontsize=16)\n",
        "plt.xlabel('Fecha', fontsize=14)\n",
        "plt.ylabel('Precio', fontsize=14)\n",
        "plt.legend()\n",
        "plt.show()"
      ]
    },
    {
      "cell_type": "code",
      "execution_count": null,
      "id": "99c251f9",
      "metadata": {
        "id": "99c251f9",
        "colab": {
          "base_uri": "https://localhost:8080/",
          "height": 564
        },
        "outputId": "cd436e53-68b2-491c-bef8-6203150ade99"
      },
      "outputs": [
        {
          "output_type": "display_data",
          "data": {
            "text/plain": [
              "<Figure size 1200x600 with 1 Axes>"
            ],
            "image/png": "[encoded data removed]"
          },
          "metadata": {}
        }
      ],
      "source": [
        "import matplotlib.pyplot as plt\n",
        "import seaborn as sns\n",
        "plt.figure(figsize=(12,6))\n",
        "plt.plot(data.index, data['AAPL'], label='Precio AAPL', color='grey')\n",
        "plt.title('Precio de cierre de AAPL')\n",
        "plt.xlabel('Fecha')\n",
        "plt.ylabel('Precio de cierre ($)')\n",
        "plt.show()\n"
      ]
    },
    {
      "cell_type": "code",
      "source": [
        "data.head()"
      ],
      "metadata": {
        "id": "qKuBnGusX2Q1",
        "colab": {
          "base_uri": "https://localhost:8080/",
          "height": 235
        },
        "outputId": "68db5a6e-e7ce-41aa-9210-c134a3cdef12"
      },
      "id": "qKuBnGusX2Q1",
      "execution_count": null,
      "outputs": [
        {
          "output_type": "execute_result",
          "data": {
            "text/plain": [
              "Ticker            AAPL        AMZN\n",
              "Date                              \n",
              "2022-01-03  179.076584  170.404495\n",
              "2022-01-04  176.803818  167.522003\n",
              "2022-01-05  172.100845  164.356995\n",
              "2022-01-06  169.227905  163.253998\n",
              "2022-01-07  169.395157  162.554001"
            ],
            "text/html": [
              "\n",
              "  <div id=\"df-5eb6b524-9f42-49de-aea4-2c08fb1823f8\" class=\"colab-df-container\">\n",
              "    <div>\n",
              "<style scoped>\n",
              "    .dataframe tbody tr th:only-of-type {\n",
              "        vertical-align: middle;\n",
              "    }\n",
              "\n",
              "    .dataframe tbody tr th {\n",
              "        vertical-align: top;\n",
              "    }\n",
              "\n",
              "    .dataframe thead th {\n",
              "        text-align: right;\n",
              "    }\n",
              "</style>\n",
              "<table border=\"1\" class=\"dataframe\">\n",
              "  <thead>\n",
              "    <tr style=\"text-align: right;\">\n",
              "      <th>Ticker</th>\n",
              "      <th>AAPL</th>\n",
              "      <th>AMZN</th>\n",
              "    </tr>\n",
              "    <tr>\n",
              "      <th>Date</th>\n",
              "      <th></th>\n",
              "      <th></th>\n",
              "    </tr>\n",
              "  </thead>\n",
              "  <tbody>\n",
              "    <tr>\n",
              "      <th>2022-01-03</th>\n",
              "      <td>179.076584</td>\n",
              "      <td>170.404495</td>\n",
              "    </tr>\n",
              "    <tr>\n",
              "      <th>2022-01-04</th>\n",
              "      <td>176.803818</td>\n",
              "      <td>167.522003</td>\n",
              "    </tr>\n",
              "    <tr>\n",
              "      <th>2022-01-05</th>\n",
              "      <td>172.100845</td>\n",
              "      <td>164.356995</td>\n",
              "    </tr>\n",
              "    <tr>\n",
              "      <th>2022-01-06</th>\n",
              "      <td>169.227905</td>\n",
              "      <td>163.253998</td>\n",
              "    </tr>\n",
              "    <tr>\n",
              "      <th>2022-01-07</th>\n",
              "      <td>169.395157</td>\n",
              "      <td>162.554001</td>\n",
              "    </tr>\n",
              "  </tbody>\n",
              "</table>\n",
              "</div>\n",
              "    <div class=\"colab-df-buttons\">\n",
              "\n",
              "  <div class=\"colab-df-container\">\n",
              "    <button class=\"colab-df-convert\" onclick=\"convertToInteractive('df-5eb6b524-9f42-49de-aea4-2c08fb1823f8')\"\n",
              "            title=\"Convert this dataframe to an interactive table.\"\n",
              "            style=\"display:none;\">\n",
              "\n",
              "  <svg xmlns=\"http://www.w3.org/2000/svg\" height=\"24px\" viewBox=\"0 -960 960 960\">\n",
              "    <path d=\"M120-120v-720h720v720H120Zm60-500h600v-160H180v160Zm220 220h160v-160H400v160Zm0 220h160v-160H400v160ZM180-400h160v-160H180v160Zm440 0h160v-160H620v160ZM180-180h160v-160H180v160Zm440 0h160v-160H620v160Z\"/>\n",
              "  </svg>\n",
              "    </button>\n",
              "\n",
              "  <style>\n",
              "    .colab-df-container {\n",
              "      display:flex;\n",
              "      gap: 12px;\n",
              "    }\n",
              "\n",
              "    .colab-df-convert {\n",
              "      background-color: #E8F0FE;\n",
              "      border: none;\n",
              "      border-radius: 50%;\n",
              "      cursor: pointer;\n",
              "      display: none;\n",
              "      fill: #1967D2;\n",
              "      height: 32px;\n",
              "      padding: 0 0 0 0;\n",
              "      width: 32px;\n",
              "    }\n",
              "\n",
              "    .colab-df-convert:hover {\n",
              "      background-color: #E2EBFA;\n",
              "      box-shadow: 0px 1px 2px rgba(60, 64, 67, 0.3), 0px 1px 3px 1px rgba(60, 64, 67, 0.15);\n",
              "      fill: #174EA6;\n",
              "    }\n",
              "\n",
              "    .colab-df-buttons div {\n",
              "      margin-bottom: 4px;\n",
              "    }\n",
              "\n",
              "    [theme=dark] .colab-df-convert {\n",
              "      background-color: #3B4455;\n",
              "      fill: #D2E3FC;\n",
              "    }\n",
              "\n",
              "    [theme=dark] .colab-df-convert:hover {\n",
              "      background-color: #434B5C;\n",
              "      box-shadow: 0px 1px 3px 1px rgba(0, 0, 0, 0.15);\n",
              "      filter: drop-shadow(0px 1px 2px rgba(0, 0, 0, 0.3));\n",
              "      fill: #FFFFFF;\n",
              "    }\n",
              "  </style>\n",
              "\n",
              "    <script>\n",
              "      const buttonEl =\n",
              "        document.querySelector('#df-5eb6b524-9f42-49de-aea4-2c08fb1823f8 button.colab-df-convert');\n",
              "      buttonEl.style.display =\n",
              "        google.colab.kernel.accessAllowed ? 'block' : 'none';\n",
              "\n",
              "      async function convertToInteractive(key) {\n",
              "        const element = document.querySelector('#df-5eb6b524-9f42-49de-aea4-2c08fb1823f8');\n",
              "        const dataTable =\n",
              "          await google.colab.kernel.invokeFunction('convertToInteractive',\n",
              "                                                    [key], {});\n",
              "        if (!dataTable) return;\n",
              "\n",
              "        const docLinkHtml = 'Like what you see? Visit the ' +\n",
              "          '<a target=\"_blank\" href=https://colab.research.google.com/notebooks/data_table.ipynb>data table notebook</a>'\n",
              "          + ' to learn more about interactive tables.';\n",
              "        element.innerHTML = '';\n",
              "        dataTable['output_type'] = 'display_data';\n",
              "        await google.colab.output.renderOutput(dataTable, element);\n",
              "        const docLink = document.createElement('div');\n",
              "        docLink.innerHTML = docLinkHtml;\n",
              "        element.appendChild(docLink);\n",
              "      }\n",
              "    </script>\n",
              "  </div>\n",
              "\n",
              "\n",
              "<div id=\"df-2542df1c-9bca-4dbd-be95-c608d1746e62\">\n",
              "  <button class=\"colab-df-quickchart\" onclick=\"quickchart('df-2542df1c-9bca-4dbd-be95-c608d1746e62')\"\n",
              "            title=\"Suggest charts\"\n",
              "            style=\"display:none;\">\n",
              "\n",
              "<svg xmlns=\"http://www.w3.org/2000/svg\" height=\"24px\"viewBox=\"0 0 24 24\"\n",
              "     width=\"24px\">\n",
              "    <g>\n",
              "        <path d=\"M19 3H5c-1.1 0-2 .9-2 2v14c0 1.1.9 2 2 2h14c1.1 0 2-.9 2-2V5c0-1.1-.9-2-2-2zM9 17H7v-7h2v7zm4 0h-2V7h2v10zm4 0h-2v-4h2v4z\"/>\n",
              "    </g>\n",
              "</svg>\n",
              "  </button>\n",
              "\n",
              "<style>\n",
              "  .colab-df-quickchart {\n",
              "      --bg-color: #E8F0FE;\n",
              "      --fill-color: #1967D2;\n",
              "      --hover-bg-color: #E2EBFA;\n",
              "      --hover-fill-color: #174EA6;\n",
              "      --disabled-fill-color: #AAA;\n",
              "      --disabled-bg-color: #DDD;\n",
              "  }\n",
              "\n",
              "  [theme=dark] .colab-df-quickchart {\n",
              "      --bg-color: #3B4455;\n",
              "      --fill-color: #D2E3FC;\n",
              "      --hover-bg-color: #434B5C;\n",
              "      --hover-fill-color: #FFFFFF;\n",
              "      --disabled-bg-color: #3B4455;\n",
              "      --disabled-fill-color: #666;\n",
              "  }\n",
              "\n",
              "  .colab-df-quickchart {\n",
              "    background-color: var(--bg-color);\n",
              "    border: none;\n",
              "    border-radius: 50%;\n",
              "    cursor: pointer;\n",
              "    display: none;\n",
              "    fill: var(--fill-color);\n",
              "    height: 32px;\n",
              "    padding: 0;\n",
              "    width: 32px;\n",
              "  }\n",
              "\n",
              "  .colab-df-quickchart:hover {\n",
              "    background-color: var(--hover-bg-color);\n",
              "    box-shadow: 0 1px 2px rgba(60, 64, 67, 0.3), 0 1px 3px 1px rgba(60, 64, 67, 0.15);\n",
              "    fill: var(--button-hover-fill-color);\n",
              "  }\n",
              "\n",
              "  .colab-df-quickchart-complete:disabled,\n",
              "  .colab-df-quickchart-complete:disabled:hover {\n",
              "    background-color: var(--disabled-bg-color);\n",
              "    fill: var(--disabled-fill-color);\n",
              "    box-shadow: none;\n",
              "  }\n",
              "\n",
              "  .colab-df-spinner {\n",
              "    border: 2px solid var(--fill-color);\n",
              "    border-color: transparent;\n",
              "    border-bottom-color: var(--fill-color);\n",
              "    animation:\n",
              "      spin 1s steps(1) infinite;\n",
              "  }\n",
              "\n",
              "  @keyframes spin {\n",
              "    0% {\n",
              "      border-color: transparent;\n",
              "      border-bottom-color: var(--fill-color);\n",
              "      border-left-color: var(--fill-color);\n",
              "    }\n",
              "    20% {\n",
              "      border-color: transparent;\n",
              "      border-left-color: var(--fill-color);\n",
              "      border-top-color: var(--fill-color);\n",
              "    }\n",
              "    30% {\n",
              "      border-color: transparent;\n",
              "      border-left-color: var(--fill-color);\n",
              "      border-top-color: var(--fill-color);\n",
              "      border-right-color: var(--fill-color);\n",
              "    }\n",
              "    40% {\n",
              "      border-color: transparent;\n",
              "      border-right-color: var(--fill-color);\n",
              "      border-top-color: var(--fill-color);\n",
              "    }\n",
              "    60% {\n",
              "      border-color: transparent;\n",
              "      border-right-color: var(--fill-color);\n",
              "    }\n",
              "    80% {\n",
              "      border-color: transparent;\n",
              "      border-right-color: var(--fill-color);\n",
              "      border-bottom-color: var(--fill-color);\n",
              "    }\n",
              "    90% {\n",
              "      border-color: transparent;\n",
              "      border-bottom-color: var(--fill-color);\n",
              "    }\n",
              "  }\n",
              "</style>\n",
              "\n",
              "  <script>\n",
              "    async function quickchart(key) {\n",
              "      const quickchartButtonEl =\n",
              "        document.querySelector('#' + key + ' button');\n",
              "      quickchartButtonEl.disabled = true;  // To prevent multiple clicks.\n",
              "      quickchartButtonEl.classList.add('colab-df-spinner');\n",
              "      try {\n",
              "        const charts = await google.colab.kernel.invokeFunction(\n",
              "            'suggestCharts', [key], {});\n",
              "      } catch (error) {\n",
              "        console.error('Error during call to suggestCharts:', error);\n",
              "      }\n",
              "      quickchartButtonEl.classList.remove('colab-df-spinner');\n",
              "      quickchartButtonEl.classList.add('colab-df-quickchart-complete');\n",
              "    }\n",
              "    (() => {\n",
              "      let quickchartButtonEl =\n",
              "        document.querySelector('#df-2542df1c-9bca-4dbd-be95-c608d1746e62 button');\n",
              "      quickchartButtonEl.style.display =\n",
              "        google.colab.kernel.accessAllowed ? 'block' : 'none';\n",
              "    })();\n",
              "  </script>\n",
              "</div>\n",
              "\n",
              "    </div>\n",
              "  </div>\n"
            ],
            "application/vnd.google.colaboratory.intrinsic+json": {
              "type": "dataframe",
              "variable_name": "data",
              "summary": "{\n  \"name\": \"data\",\n  \"rows\": 764,\n  \"fields\": [\n    {\n      \"column\": \"Date\",\n      \"properties\": {\n        \"dtype\": \"date\",\n        \"min\": \"2022-01-03 00:00:00\",\n        \"max\": \"2025-01-17 00:00:00\",\n        \"num_unique_values\": 764,\n        \"samples\": [\n          \"2023-06-06 00:00:00\",\n          \"2023-01-13 00:00:00\",\n          \"2024-12-27 00:00:00\"\n        ],\n        \"semantic_type\": \"\",\n        \"description\": \"\"\n      }\n    },\n    {\n      \"column\": \"AAPL\",\n      \"properties\": {\n        \"dtype\": \"number\",\n        \"std\": 30.319618088401725,\n        \"min\": 123.7189712524414,\n        \"max\": 259.0199890136719,\n        \"num_unique_values\": 754,\n        \"samples\": [\n          189.41212463378906,\n          136.43524169921875,\n          226.15118408203125\n        ],\n        \"semantic_type\": \"\",\n        \"description\": \"\"\n      }\n    },\n    {\n      \"column\": \"AMZN\",\n      \"properties\": {\n        \"dtype\": \"number\",\n        \"std\": 36.16983659477949,\n        \"min\": 81.81999969482422,\n        \"max\": 232.92999267578125,\n        \"num_unique_values\": 740,\n        \"samples\": [\n          113.22000122070312,\n          144.72000122070312,\n          105.66000366210938\n        ],\n        \"semantic_type\": \"\",\n        \"description\": \"\"\n      }\n    }\n  ]\n}"
            }
          },
          "metadata": {},
          "execution_count": 45
        }
      ]
    },
    {
      "cell_type": "markdown",
      "source": [
        "## Actividad de clase\n",
        "\n",
        "Obtén los datos de las siguientes empresas desde el 1 de enero de 2020 hasta hoy:\n",
        "\n",
        "Bank of America\n",
        "\n",
        "Intel\n",
        "\n",
        "Microsoft\n",
        "\n",
        "Apple\n",
        "\n",
        "Una acción libre (Escoge la que quieras de NYSE)\n",
        "\n"
      ],
      "metadata": {
        "id": "PLIehBFosk0a"
      },
      "id": "PLIehBFosk0a"
    },
    {
      "cell_type": "code",
      "source": [],
      "metadata": {
        "id": "FbyGtjqlX7ig"
      },
      "id": "FbyGtjqlX7ig",
      "execution_count": null,
      "outputs": []
    },
    {
      "cell_type": "markdown",
      "source": [
        "Grafica sus precios de cierre ajustado:  Adj Close  "
      ],
      "metadata": {
        "id": "FIHMmIiVtYoQ"
      },
      "id": "FIHMmIiVtYoQ"
    },
    {
      "cell_type": "code",
      "source": [],
      "metadata": {
        "id": "Fe2qbU25X-MY"
      },
      "id": "Fe2qbU25X-MY",
      "execution_count": null,
      "outputs": []
    },
    {
      "cell_type": "markdown",
      "source": [
        "Obtén el precio de cierre ajustado promedio por acción"
      ],
      "metadata": {
        "id": "zIyVUDppRY0r"
      },
      "id": "zIyVUDppRY0r"
    },
    {
      "cell_type": "code",
      "source": [],
      "metadata": {
        "id": "SrBw8clWtLLe"
      },
      "id": "SrBw8clWtLLe",
      "execution_count": null,
      "outputs": []
    },
    {
      "cell_type": "markdown",
      "source": [
        "Encuentra qué días en los que Apple ha tenido un precio de cierre ajustado mayor a su precio de cierre promedio en el periodo"
      ],
      "metadata": {
        "id": "jyfZXxmKtlVy"
      },
      "id": "jyfZXxmKtlVy"
    },
    {
      "cell_type": "code",
      "source": [],
      "metadata": {
        "id": "-A0CV7NXYCZu"
      },
      "id": "-A0CV7NXYCZu",
      "execution_count": null,
      "outputs": []
    },
    {
      "cell_type": "markdown",
      "source": [
        "Encuentra los 10 días que Microsoft tuvo mayor rendimiento"
      ],
      "metadata": {
        "id": "enZM3-ZutV4t"
      },
      "id": "enZM3-ZutV4t"
    },
    {
      "cell_type": "code",
      "source": [],
      "metadata": {
        "id": "gRJUkRkYtVZ0"
      },
      "id": "gRJUkRkYtVZ0",
      "execution_count": null,
      "outputs": []
    },
    {
      "cell_type": "markdown",
      "source": [
        "Si hubieras invertido 100 dolares en cada una de esas acciones justo el 1 de enero de 2020 (100 en Tesla, 100 en Bank of America, etc.) , ¿cuánto valdrían hoy? Asume que es posible adquirir fracciones de acciones.\n",
        "\n",
        "Ejemplo con datos inventados:\n",
        "\n",
        "Apple valdría 156\n",
        "\n",
        "Intc valdría 80\n",
        "\n",
        "Bac valdría 120\n"
      ],
      "metadata": {
        "id": "Urihe7TVQl2I"
      },
      "id": "Urihe7TVQl2I"
    },
    {
      "cell_type": "code",
      "source": [],
      "metadata": {
        "id": "aab0L9FAQlUo"
      },
      "id": "aab0L9FAQlUo",
      "execution_count": null,
      "outputs": []
    }
  ],
  "metadata": {
    "kernelspec": {
      "display_name": "Python 3 (ipykernel)",
      "language": "python",
      "name": "python3"
    },
    "language_info": {
      "codemirror_mode": {
        "name": "ipython",
        "version": 3
      },
      "file_extension": ".py",
      "mimetype": "text/x-python",
      "name": "python",
      "nbconvert_exporter": "python",
      "pygments_lexer": "ipython3",
      "version": "3.9.7"
    },
    "colab": {
      "provenance": []
    }
  },
  "nbformat": 4,
  "nbformat_minor": 5
}